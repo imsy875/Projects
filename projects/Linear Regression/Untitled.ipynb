{
 "cells": [
  {
   "cell_type": "markdown",
   "metadata": {},
   "source": [
    "# Media Company Case Study"
   ]
  },
  {
   "cell_type": "markdown",
   "metadata": {},
   "source": [
    "Problem Statement -  A digital media company (similar to Voot, Hotstar, Netflix, etc.) had launched a show. Initially, the show got a good response, but then witnessed a decline in viewership. The company wants to figure out what went wrong."
   ]
  },
  {
   "cell_type": "code",
   "execution_count": 1,
   "metadata": {},
   "outputs": [],
   "source": [
    "# Importing all required packages\n",
    "import numpy as np\n",
    "import pandas as pd\n",
    "import matplotlib.pyplot as plt\n",
    "import seaborn as sns"
   ]
  },
  {
   "cell_type": "code",
   "execution_count": 2,
   "metadata": {},
   "outputs": [],
   "source": [
    "import os\n",
    "os.chdir(\"C://Users//KOMAL//Desktop//data//netflix, Hotstar\")"
   ]
  },
  {
   "cell_type": "code",
   "execution_count": 3,
   "metadata": {},
   "outputs": [],
   "source": [
    "media=pd.read_csv(\"mediacompany.csv\")"
   ]
  },
  {
   "cell_type": "code",
   "execution_count": 4,
   "metadata": {},
   "outputs": [
    {
     "data": {
      "text/html": [
       "<div>\n",
       "<style scoped>\n",
       "    .dataframe tbody tr th:only-of-type {\n",
       "        vertical-align: middle;\n",
       "    }\n",
       "\n",
       "    .dataframe tbody tr th {\n",
       "        vertical-align: top;\n",
       "    }\n",
       "\n",
       "    .dataframe thead th {\n",
       "        text-align: right;\n",
       "    }\n",
       "</style>\n",
       "<table border=\"1\" class=\"dataframe\">\n",
       "  <thead>\n",
       "    <tr style=\"text-align: right;\">\n",
       "      <th></th>\n",
       "      <th>Date</th>\n",
       "      <th>Views_show</th>\n",
       "      <th>Visitors</th>\n",
       "      <th>Views_platform</th>\n",
       "      <th>Ad_impression</th>\n",
       "      <th>Cricket_match_india</th>\n",
       "      <th>Character_A</th>\n",
       "      <th>Unnamed: 7</th>\n",
       "    </tr>\n",
       "  </thead>\n",
       "  <tbody>\n",
       "    <tr>\n",
       "      <th>0</th>\n",
       "      <td>3/1/2017</td>\n",
       "      <td>183738</td>\n",
       "      <td>1260228</td>\n",
       "      <td>1706478</td>\n",
       "      <td>1060860448</td>\n",
       "      <td>0</td>\n",
       "      <td>0</td>\n",
       "      <td>NaN</td>\n",
       "    </tr>\n",
       "    <tr>\n",
       "      <th>1</th>\n",
       "      <td>3/2/2017</td>\n",
       "      <td>193763</td>\n",
       "      <td>1270561</td>\n",
       "      <td>1690727</td>\n",
       "      <td>1031846645</td>\n",
       "      <td>0</td>\n",
       "      <td>0</td>\n",
       "      <td>NaN</td>\n",
       "    </tr>\n",
       "    <tr>\n",
       "      <th>2</th>\n",
       "      <td>3/3/2017</td>\n",
       "      <td>210479</td>\n",
       "      <td>1248183</td>\n",
       "      <td>1726157</td>\n",
       "      <td>1010867575</td>\n",
       "      <td>0</td>\n",
       "      <td>0</td>\n",
       "      <td>NaN</td>\n",
       "    </tr>\n",
       "    <tr>\n",
       "      <th>3</th>\n",
       "      <td>3/4/2017</td>\n",
       "      <td>240061</td>\n",
       "      <td>1492913</td>\n",
       "      <td>1855353</td>\n",
       "      <td>1079194579</td>\n",
       "      <td>1</td>\n",
       "      <td>0</td>\n",
       "      <td>NaN</td>\n",
       "    </tr>\n",
       "    <tr>\n",
       "      <th>4</th>\n",
       "      <td>3/5/2017</td>\n",
       "      <td>446314</td>\n",
       "      <td>1594712</td>\n",
       "      <td>2041418</td>\n",
       "      <td>1357736987</td>\n",
       "      <td>0</td>\n",
       "      <td>0</td>\n",
       "      <td>NaN</td>\n",
       "    </tr>\n",
       "  </tbody>\n",
       "</table>\n",
       "</div>"
      ],
      "text/plain": [
       "       Date  Views_show  Visitors  Views_platform  Ad_impression  \\\n",
       "0  3/1/2017      183738   1260228         1706478     1060860448   \n",
       "1  3/2/2017      193763   1270561         1690727     1031846645   \n",
       "2  3/3/2017      210479   1248183         1726157     1010867575   \n",
       "3  3/4/2017      240061   1492913         1855353     1079194579   \n",
       "4  3/5/2017      446314   1594712         2041418     1357736987   \n",
       "\n",
       "   Cricket_match_india  Character_A  Unnamed: 7  \n",
       "0                    0            0         NaN  \n",
       "1                    0            0         NaN  \n",
       "2                    0            0         NaN  \n",
       "3                    1            0         NaN  \n",
       "4                    0            0         NaN  "
      ]
     },
     "execution_count": 4,
     "metadata": {},
     "output_type": "execute_result"
    }
   ],
   "source": [
    "#Let's explore the top 5 rows\n",
    "media.head()"
   ]
  },
  {
   "cell_type": "code",
   "execution_count": 5,
   "metadata": {},
   "outputs": [],
   "source": [
    "# Converting date to Pandas datetime format\n",
    "media['Date'] = pd.to_datetime(media['Date'])"
   ]
  },
  {
   "cell_type": "code",
   "execution_count": 6,
   "metadata": {},
   "outputs": [
    {
     "data": {
      "text/html": [
       "<div>\n",
       "<style scoped>\n",
       "    .dataframe tbody tr th:only-of-type {\n",
       "        vertical-align: middle;\n",
       "    }\n",
       "\n",
       "    .dataframe tbody tr th {\n",
       "        vertical-align: top;\n",
       "    }\n",
       "\n",
       "    .dataframe thead th {\n",
       "        text-align: right;\n",
       "    }\n",
       "</style>\n",
       "<table border=\"1\" class=\"dataframe\">\n",
       "  <thead>\n",
       "    <tr style=\"text-align: right;\">\n",
       "      <th></th>\n",
       "      <th>Date</th>\n",
       "      <th>Views_show</th>\n",
       "      <th>Visitors</th>\n",
       "      <th>Views_platform</th>\n",
       "      <th>Ad_impression</th>\n",
       "      <th>Cricket_match_india</th>\n",
       "      <th>Character_A</th>\n",
       "      <th>Unnamed: 7</th>\n",
       "    </tr>\n",
       "  </thead>\n",
       "  <tbody>\n",
       "    <tr>\n",
       "      <th>0</th>\n",
       "      <td>2017-03-01</td>\n",
       "      <td>183738</td>\n",
       "      <td>1260228</td>\n",
       "      <td>1706478</td>\n",
       "      <td>1060860448</td>\n",
       "      <td>0</td>\n",
       "      <td>0</td>\n",
       "      <td>NaN</td>\n",
       "    </tr>\n",
       "    <tr>\n",
       "      <th>1</th>\n",
       "      <td>2017-03-02</td>\n",
       "      <td>193763</td>\n",
       "      <td>1270561</td>\n",
       "      <td>1690727</td>\n",
       "      <td>1031846645</td>\n",
       "      <td>0</td>\n",
       "      <td>0</td>\n",
       "      <td>NaN</td>\n",
       "    </tr>\n",
       "    <tr>\n",
       "      <th>2</th>\n",
       "      <td>2017-03-03</td>\n",
       "      <td>210479</td>\n",
       "      <td>1248183</td>\n",
       "      <td>1726157</td>\n",
       "      <td>1010867575</td>\n",
       "      <td>0</td>\n",
       "      <td>0</td>\n",
       "      <td>NaN</td>\n",
       "    </tr>\n",
       "    <tr>\n",
       "      <th>3</th>\n",
       "      <td>2017-03-04</td>\n",
       "      <td>240061</td>\n",
       "      <td>1492913</td>\n",
       "      <td>1855353</td>\n",
       "      <td>1079194579</td>\n",
       "      <td>1</td>\n",
       "      <td>0</td>\n",
       "      <td>NaN</td>\n",
       "    </tr>\n",
       "    <tr>\n",
       "      <th>4</th>\n",
       "      <td>2017-03-05</td>\n",
       "      <td>446314</td>\n",
       "      <td>1594712</td>\n",
       "      <td>2041418</td>\n",
       "      <td>1357736987</td>\n",
       "      <td>0</td>\n",
       "      <td>0</td>\n",
       "      <td>NaN</td>\n",
       "    </tr>\n",
       "  </tbody>\n",
       "</table>\n",
       "</div>"
      ],
      "text/plain": [
       "        Date  Views_show  Visitors  Views_platform  Ad_impression  \\\n",
       "0 2017-03-01      183738   1260228         1706478     1060860448   \n",
       "1 2017-03-02      193763   1270561         1690727     1031846645   \n",
       "2 2017-03-03      210479   1248183         1726157     1010867575   \n",
       "3 2017-03-04      240061   1492913         1855353     1079194579   \n",
       "4 2017-03-05      446314   1594712         2041418     1357736987   \n",
       "\n",
       "   Cricket_match_india  Character_A  Unnamed: 7  \n",
       "0                    0            0         NaN  \n",
       "1                    0            0         NaN  \n",
       "2                    0            0         NaN  \n",
       "3                    1            0         NaN  \n",
       "4                    0            0         NaN  "
      ]
     },
     "execution_count": 6,
     "metadata": {},
     "output_type": "execute_result"
    }
   ],
   "source": [
    "media.head()"
   ]
  },
  {
   "cell_type": "code",
   "execution_count": 7,
   "metadata": {},
   "outputs": [],
   "source": [
    "# Deriving \"days since the show started\"\n",
    "from datetime import date\n",
    "\n",
    "media['adate'] = date(2017, 2, 28)\n",
    "media['adate'] = pd.to_datetime(media['adate'])\n",
    "media['days'] = (media['Date'] - media['adate'])"
   ]
  },
  {
   "cell_type": "code",
   "execution_count": 8,
   "metadata": {},
   "outputs": [],
   "source": [
    "media['days']=media.days.dt.days"
   ]
  },
  {
   "cell_type": "code",
   "execution_count": 9,
   "metadata": {},
   "outputs": [
    {
     "data": {
      "text/html": [
       "<div>\n",
       "<style scoped>\n",
       "    .dataframe tbody tr th:only-of-type {\n",
       "        vertical-align: middle;\n",
       "    }\n",
       "\n",
       "    .dataframe tbody tr th {\n",
       "        vertical-align: top;\n",
       "    }\n",
       "\n",
       "    .dataframe thead th {\n",
       "        text-align: right;\n",
       "    }\n",
       "</style>\n",
       "<table border=\"1\" class=\"dataframe\">\n",
       "  <thead>\n",
       "    <tr style=\"text-align: right;\">\n",
       "      <th></th>\n",
       "      <th>Date</th>\n",
       "      <th>Views_show</th>\n",
       "      <th>Visitors</th>\n",
       "      <th>Views_platform</th>\n",
       "      <th>Ad_impression</th>\n",
       "      <th>Cricket_match_india</th>\n",
       "      <th>Character_A</th>\n",
       "      <th>Unnamed: 7</th>\n",
       "      <th>adate</th>\n",
       "      <th>days</th>\n",
       "    </tr>\n",
       "  </thead>\n",
       "  <tbody>\n",
       "    <tr>\n",
       "      <th>0</th>\n",
       "      <td>2017-03-01</td>\n",
       "      <td>183738</td>\n",
       "      <td>1260228</td>\n",
       "      <td>1706478</td>\n",
       "      <td>1060860448</td>\n",
       "      <td>0</td>\n",
       "      <td>0</td>\n",
       "      <td>NaN</td>\n",
       "      <td>2017-02-28</td>\n",
       "      <td>1</td>\n",
       "    </tr>\n",
       "    <tr>\n",
       "      <th>1</th>\n",
       "      <td>2017-03-02</td>\n",
       "      <td>193763</td>\n",
       "      <td>1270561</td>\n",
       "      <td>1690727</td>\n",
       "      <td>1031846645</td>\n",
       "      <td>0</td>\n",
       "      <td>0</td>\n",
       "      <td>NaN</td>\n",
       "      <td>2017-02-28</td>\n",
       "      <td>2</td>\n",
       "    </tr>\n",
       "    <tr>\n",
       "      <th>2</th>\n",
       "      <td>2017-03-03</td>\n",
       "      <td>210479</td>\n",
       "      <td>1248183</td>\n",
       "      <td>1726157</td>\n",
       "      <td>1010867575</td>\n",
       "      <td>0</td>\n",
       "      <td>0</td>\n",
       "      <td>NaN</td>\n",
       "      <td>2017-02-28</td>\n",
       "      <td>3</td>\n",
       "    </tr>\n",
       "    <tr>\n",
       "      <th>3</th>\n",
       "      <td>2017-03-04</td>\n",
       "      <td>240061</td>\n",
       "      <td>1492913</td>\n",
       "      <td>1855353</td>\n",
       "      <td>1079194579</td>\n",
       "      <td>1</td>\n",
       "      <td>0</td>\n",
       "      <td>NaN</td>\n",
       "      <td>2017-02-28</td>\n",
       "      <td>4</td>\n",
       "    </tr>\n",
       "    <tr>\n",
       "      <th>4</th>\n",
       "      <td>2017-03-05</td>\n",
       "      <td>446314</td>\n",
       "      <td>1594712</td>\n",
       "      <td>2041418</td>\n",
       "      <td>1357736987</td>\n",
       "      <td>0</td>\n",
       "      <td>0</td>\n",
       "      <td>NaN</td>\n",
       "      <td>2017-02-28</td>\n",
       "      <td>5</td>\n",
       "    </tr>\n",
       "  </tbody>\n",
       "</table>\n",
       "</div>"
      ],
      "text/plain": [
       "        Date  Views_show  Visitors  Views_platform  Ad_impression  \\\n",
       "0 2017-03-01      183738   1260228         1706478     1060860448   \n",
       "1 2017-03-02      193763   1270561         1690727     1031846645   \n",
       "2 2017-03-03      210479   1248183         1726157     1010867575   \n",
       "3 2017-03-04      240061   1492913         1855353     1079194579   \n",
       "4 2017-03-05      446314   1594712         2041418     1357736987   \n",
       "\n",
       "   Cricket_match_india  Character_A  Unnamed: 7      adate  days  \n",
       "0                    0            0         NaN 2017-02-28     1  \n",
       "1                    0            0         NaN 2017-02-28     2  \n",
       "2                    0            0         NaN 2017-02-28     3  \n",
       "3                    1            0         NaN 2017-02-28     4  \n",
       "4                    0            0         NaN 2017-02-28     5  "
      ]
     },
     "execution_count": 9,
     "metadata": {},
     "output_type": "execute_result"
    }
   ],
   "source": [
    "media.head()"
   ]
  },
  {
   "cell_type": "code",
   "execution_count": 10,
   "metadata": {},
   "outputs": [],
   "source": [
    "media=media.drop(\"adate\", axis=1)"
   ]
  },
  {
   "cell_type": "code",
   "execution_count": 11,
   "metadata": {},
   "outputs": [
    {
     "data": {
      "text/html": [
       "<div>\n",
       "<style scoped>\n",
       "    .dataframe tbody tr th:only-of-type {\n",
       "        vertical-align: middle;\n",
       "    }\n",
       "\n",
       "    .dataframe tbody tr th {\n",
       "        vertical-align: top;\n",
       "    }\n",
       "\n",
       "    .dataframe thead th {\n",
       "        text-align: right;\n",
       "    }\n",
       "</style>\n",
       "<table border=\"1\" class=\"dataframe\">\n",
       "  <thead>\n",
       "    <tr style=\"text-align: right;\">\n",
       "      <th></th>\n",
       "      <th>Date</th>\n",
       "      <th>Views_show</th>\n",
       "      <th>Visitors</th>\n",
       "      <th>Views_platform</th>\n",
       "      <th>Ad_impression</th>\n",
       "      <th>Cricket_match_india</th>\n",
       "      <th>Character_A</th>\n",
       "      <th>Unnamed: 7</th>\n",
       "      <th>days</th>\n",
       "    </tr>\n",
       "  </thead>\n",
       "  <tbody>\n",
       "    <tr>\n",
       "      <th>0</th>\n",
       "      <td>2017-03-01</td>\n",
       "      <td>183738</td>\n",
       "      <td>1260228</td>\n",
       "      <td>1706478</td>\n",
       "      <td>1060860448</td>\n",
       "      <td>0</td>\n",
       "      <td>0</td>\n",
       "      <td>NaN</td>\n",
       "      <td>1</td>\n",
       "    </tr>\n",
       "    <tr>\n",
       "      <th>1</th>\n",
       "      <td>2017-03-02</td>\n",
       "      <td>193763</td>\n",
       "      <td>1270561</td>\n",
       "      <td>1690727</td>\n",
       "      <td>1031846645</td>\n",
       "      <td>0</td>\n",
       "      <td>0</td>\n",
       "      <td>NaN</td>\n",
       "      <td>2</td>\n",
       "    </tr>\n",
       "    <tr>\n",
       "      <th>2</th>\n",
       "      <td>2017-03-03</td>\n",
       "      <td>210479</td>\n",
       "      <td>1248183</td>\n",
       "      <td>1726157</td>\n",
       "      <td>1010867575</td>\n",
       "      <td>0</td>\n",
       "      <td>0</td>\n",
       "      <td>NaN</td>\n",
       "      <td>3</td>\n",
       "    </tr>\n",
       "    <tr>\n",
       "      <th>3</th>\n",
       "      <td>2017-03-04</td>\n",
       "      <td>240061</td>\n",
       "      <td>1492913</td>\n",
       "      <td>1855353</td>\n",
       "      <td>1079194579</td>\n",
       "      <td>1</td>\n",
       "      <td>0</td>\n",
       "      <td>NaN</td>\n",
       "      <td>4</td>\n",
       "    </tr>\n",
       "    <tr>\n",
       "      <th>4</th>\n",
       "      <td>2017-03-05</td>\n",
       "      <td>446314</td>\n",
       "      <td>1594712</td>\n",
       "      <td>2041418</td>\n",
       "      <td>1357736987</td>\n",
       "      <td>0</td>\n",
       "      <td>0</td>\n",
       "      <td>NaN</td>\n",
       "      <td>5</td>\n",
       "    </tr>\n",
       "  </tbody>\n",
       "</table>\n",
       "</div>"
      ],
      "text/plain": [
       "        Date  Views_show  Visitors  Views_platform  Ad_impression  \\\n",
       "0 2017-03-01      183738   1260228         1706478     1060860448   \n",
       "1 2017-03-02      193763   1270561         1690727     1031846645   \n",
       "2 2017-03-03      210479   1248183         1726157     1010867575   \n",
       "3 2017-03-04      240061   1492913         1855353     1079194579   \n",
       "4 2017-03-05      446314   1594712         2041418     1357736987   \n",
       "\n",
       "   Cricket_match_india  Character_A  Unnamed: 7  days  \n",
       "0                    0            0         NaN     1  \n",
       "1                    0            0         NaN     2  \n",
       "2                    0            0         NaN     3  \n",
       "3                    1            0         NaN     4  \n",
       "4                    0            0         NaN     5  "
      ]
     },
     "execution_count": 11,
     "metadata": {},
     "output_type": "execute_result"
    }
   ],
   "source": [
    "media.head()"
   ]
  },
  {
   "cell_type": "code",
   "execution_count": 12,
   "metadata": {},
   "outputs": [
    {
     "data": {
      "image/png": "[encoded data removed]",
      "text/plain": [
       "<Figure size 360x360 with 1 Axes>"
      ]
     },
     "metadata": {
      "needs_background": "light"
     },
     "output_type": "display_data"
    }
   ],
   "source": [
    "# days vs Views_show\n",
    "sns.relplot(x=\"days\", y=\"Views_show\", kind=\"line\", data=media);"
   ]
  },
  {
   "cell_type": "code",
   "execution_count": 13,
   "metadata": {},
   "outputs": [
    {
     "data": {
      "text/plain": [
       "<seaborn.axisgrid.FacetGrid at 0xbb4e7d0>"
      ]
     },
     "execution_count": 13,
     "metadata": {},
     "output_type": "execute_result"
    },
    {
     "data": {
      "image/png": "[encoded data removed]",
      "text/plain": [
       "<Figure size 360x360 with 1 Axes>"
      ]
     },
     "metadata": {
      "needs_background": "light"
     },
     "output_type": "display_data"
    }
   ],
   "source": [
    "# Scatter Plot (days vs Views_show)\n",
    "sns.relplot(x=\"days\", y=\"Views_show\", data=media)"
   ]
  },
  {
   "cell_type": "code",
   "execution_count": 14,
   "metadata": {},
   "outputs": [
    {
     "data": {
      "text/html": [
       "<div>\n",
       "<style scoped>\n",
       "    .dataframe tbody tr th:only-of-type {\n",
       "        vertical-align: middle;\n",
       "    }\n",
       "\n",
       "    .dataframe tbody tr th {\n",
       "        vertical-align: top;\n",
       "    }\n",
       "\n",
       "    .dataframe thead th {\n",
       "        text-align: right;\n",
       "    }\n",
       "</style>\n",
       "<table border=\"1\" class=\"dataframe\">\n",
       "  <thead>\n",
       "    <tr style=\"text-align: right;\">\n",
       "      <th></th>\n",
       "      <th>Date</th>\n",
       "      <th>Views_show</th>\n",
       "      <th>Visitors</th>\n",
       "      <th>Views_platform</th>\n",
       "      <th>Ad_impression</th>\n",
       "      <th>Cricket_match_india</th>\n",
       "      <th>Character_A</th>\n",
       "      <th>Unnamed: 7</th>\n",
       "      <th>days</th>\n",
       "      <th>weekday</th>\n",
       "    </tr>\n",
       "  </thead>\n",
       "  <tbody>\n",
       "    <tr>\n",
       "      <th>0</th>\n",
       "      <td>2017-03-01</td>\n",
       "      <td>183738</td>\n",
       "      <td>1260228</td>\n",
       "      <td>1706478</td>\n",
       "      <td>1060860448</td>\n",
       "      <td>0</td>\n",
       "      <td>0</td>\n",
       "      <td>NaN</td>\n",
       "      <td>1</td>\n",
       "      <td>4</td>\n",
       "    </tr>\n",
       "    <tr>\n",
       "      <th>1</th>\n",
       "      <td>2017-03-02</td>\n",
       "      <td>193763</td>\n",
       "      <td>1270561</td>\n",
       "      <td>1690727</td>\n",
       "      <td>1031846645</td>\n",
       "      <td>0</td>\n",
       "      <td>0</td>\n",
       "      <td>NaN</td>\n",
       "      <td>2</td>\n",
       "      <td>5</td>\n",
       "    </tr>\n",
       "    <tr>\n",
       "      <th>2</th>\n",
       "      <td>2017-03-03</td>\n",
       "      <td>210479</td>\n",
       "      <td>1248183</td>\n",
       "      <td>1726157</td>\n",
       "      <td>1010867575</td>\n",
       "      <td>0</td>\n",
       "      <td>0</td>\n",
       "      <td>NaN</td>\n",
       "      <td>3</td>\n",
       "      <td>6</td>\n",
       "    </tr>\n",
       "    <tr>\n",
       "      <th>3</th>\n",
       "      <td>2017-03-04</td>\n",
       "      <td>240061</td>\n",
       "      <td>1492913</td>\n",
       "      <td>1855353</td>\n",
       "      <td>1079194579</td>\n",
       "      <td>1</td>\n",
       "      <td>0</td>\n",
       "      <td>NaN</td>\n",
       "      <td>4</td>\n",
       "      <td>7</td>\n",
       "    </tr>\n",
       "    <tr>\n",
       "      <th>4</th>\n",
       "      <td>2017-03-05</td>\n",
       "      <td>446314</td>\n",
       "      <td>1594712</td>\n",
       "      <td>2041418</td>\n",
       "      <td>1357736987</td>\n",
       "      <td>0</td>\n",
       "      <td>0</td>\n",
       "      <td>NaN</td>\n",
       "      <td>5</td>\n",
       "      <td>1</td>\n",
       "    </tr>\n",
       "  </tbody>\n",
       "</table>\n",
       "</div>"
      ],
      "text/plain": [
       "        Date  Views_show  Visitors  Views_platform  Ad_impression  \\\n",
       "0 2017-03-01      183738   1260228         1706478     1060860448   \n",
       "1 2017-03-02      193763   1270561         1690727     1031846645   \n",
       "2 2017-03-03      210479   1248183         1726157     1010867575   \n",
       "3 2017-03-04      240061   1492913         1855353     1079194579   \n",
       "4 2017-03-05      446314   1594712         2041418     1357736987   \n",
       "\n",
       "   Cricket_match_india  Character_A  Unnamed: 7  days  weekday  \n",
       "0                    0            0         NaN     1        4  \n",
       "1                    0            0         NaN     2        5  \n",
       "2                    0            0         NaN     3        6  \n",
       "3                    1            0         NaN     4        7  \n",
       "4                    0            0         NaN     5        1  "
      ]
     },
     "execution_count": 14,
     "metadata": {},
     "output_type": "execute_result"
    }
   ],
   "source": [
    "# Derived Metrics\n",
    "# Weekdays are taken such that 1 corresponds to Sunday and 7 to Saturday\n",
    "# Generate the weekday variable\n",
    "# as the show started on wednesday(2017-03-01) thats why added 3\n",
    "media['weekday']=(media['days']+3)%7\n",
    "media.weekday.replace(0,7, inplace= True)\n",
    "media['weekday']= media['weekday'].astype(int)\n",
    "media.head()"
   ]
  },
  {
   "cell_type": "code",
   "execution_count": 15,
   "metadata": {},
   "outputs": [],
   "source": [
    "# Unnamed is a extra column\n",
    "media=media.drop(\"Unnamed: 7\", axis=1)\n"
   ]
  },
  {
   "cell_type": "code",
   "execution_count": 16,
   "metadata": {},
   "outputs": [
    {
     "data": {
      "text/html": [
       "<div>\n",
       "<style scoped>\n",
       "    .dataframe tbody tr th:only-of-type {\n",
       "        vertical-align: middle;\n",
       "    }\n",
       "\n",
       "    .dataframe tbody tr th {\n",
       "        vertical-align: top;\n",
       "    }\n",
       "\n",
       "    .dataframe thead th {\n",
       "        text-align: right;\n",
       "    }\n",
       "</style>\n",
       "<table border=\"1\" class=\"dataframe\">\n",
       "  <thead>\n",
       "    <tr style=\"text-align: right;\">\n",
       "      <th></th>\n",
       "      <th>Date</th>\n",
       "      <th>Views_show</th>\n",
       "      <th>Visitors</th>\n",
       "      <th>Views_platform</th>\n",
       "      <th>Ad_impression</th>\n",
       "      <th>Cricket_match_india</th>\n",
       "      <th>Character_A</th>\n",
       "      <th>days</th>\n",
       "      <th>weekday</th>\n",
       "    </tr>\n",
       "  </thead>\n",
       "  <tbody>\n",
       "    <tr>\n",
       "      <th>0</th>\n",
       "      <td>2017-03-01</td>\n",
       "      <td>183738</td>\n",
       "      <td>1260228</td>\n",
       "      <td>1706478</td>\n",
       "      <td>1060860448</td>\n",
       "      <td>0</td>\n",
       "      <td>0</td>\n",
       "      <td>1</td>\n",
       "      <td>4</td>\n",
       "    </tr>\n",
       "    <tr>\n",
       "      <th>1</th>\n",
       "      <td>2017-03-02</td>\n",
       "      <td>193763</td>\n",
       "      <td>1270561</td>\n",
       "      <td>1690727</td>\n",
       "      <td>1031846645</td>\n",
       "      <td>0</td>\n",
       "      <td>0</td>\n",
       "      <td>2</td>\n",
       "      <td>5</td>\n",
       "    </tr>\n",
       "    <tr>\n",
       "      <th>2</th>\n",
       "      <td>2017-03-03</td>\n",
       "      <td>210479</td>\n",
       "      <td>1248183</td>\n",
       "      <td>1726157</td>\n",
       "      <td>1010867575</td>\n",
       "      <td>0</td>\n",
       "      <td>0</td>\n",
       "      <td>3</td>\n",
       "      <td>6</td>\n",
       "    </tr>\n",
       "    <tr>\n",
       "      <th>3</th>\n",
       "      <td>2017-03-04</td>\n",
       "      <td>240061</td>\n",
       "      <td>1492913</td>\n",
       "      <td>1855353</td>\n",
       "      <td>1079194579</td>\n",
       "      <td>1</td>\n",
       "      <td>0</td>\n",
       "      <td>4</td>\n",
       "      <td>7</td>\n",
       "    </tr>\n",
       "    <tr>\n",
       "      <th>4</th>\n",
       "      <td>2017-03-05</td>\n",
       "      <td>446314</td>\n",
       "      <td>1594712</td>\n",
       "      <td>2041418</td>\n",
       "      <td>1357736987</td>\n",
       "      <td>0</td>\n",
       "      <td>0</td>\n",
       "      <td>5</td>\n",
       "      <td>1</td>\n",
       "    </tr>\n",
       "    <tr>\n",
       "      <th>5</th>\n",
       "      <td>2017-03-06</td>\n",
       "      <td>342997</td>\n",
       "      <td>1330689</td>\n",
       "      <td>1742540</td>\n",
       "      <td>1140228426</td>\n",
       "      <td>0</td>\n",
       "      <td>0</td>\n",
       "      <td>6</td>\n",
       "      <td>2</td>\n",
       "    </tr>\n",
       "    <tr>\n",
       "      <th>6</th>\n",
       "      <td>2017-03-07</td>\n",
       "      <td>227313</td>\n",
       "      <td>1363579</td>\n",
       "      <td>1821742</td>\n",
       "      <td>1113811802</td>\n",
       "      <td>0</td>\n",
       "      <td>0</td>\n",
       "      <td>7</td>\n",
       "      <td>3</td>\n",
       "    </tr>\n",
       "    <tr>\n",
       "      <th>7</th>\n",
       "      <td>2017-03-08</td>\n",
       "      <td>180313</td>\n",
       "      <td>1353483</td>\n",
       "      <td>1795456</td>\n",
       "      <td>1083475096</td>\n",
       "      <td>0</td>\n",
       "      <td>0</td>\n",
       "      <td>8</td>\n",
       "      <td>4</td>\n",
       "    </tr>\n",
       "    <tr>\n",
       "      <th>8</th>\n",
       "      <td>2017-03-09</td>\n",
       "      <td>178800</td>\n",
       "      <td>1345428</td>\n",
       "      <td>1794157</td>\n",
       "      <td>1067636147</td>\n",
       "      <td>0</td>\n",
       "      <td>0</td>\n",
       "      <td>9</td>\n",
       "      <td>5</td>\n",
       "    </tr>\n",
       "    <tr>\n",
       "      <th>9</th>\n",
       "      <td>2017-03-10</td>\n",
       "      <td>201180</td>\n",
       "      <td>1344540</td>\n",
       "      <td>1834967</td>\n",
       "      <td>1081234843</td>\n",
       "      <td>0</td>\n",
       "      <td>0</td>\n",
       "      <td>10</td>\n",
       "      <td>6</td>\n",
       "    </tr>\n",
       "  </tbody>\n",
       "</table>\n",
       "</div>"
      ],
      "text/plain": [
       "        Date  Views_show  Visitors  Views_platform  Ad_impression  \\\n",
       "0 2017-03-01      183738   1260228         1706478     1060860448   \n",
       "1 2017-03-02      193763   1270561         1690727     1031846645   \n",
       "2 2017-03-03      210479   1248183         1726157     1010867575   \n",
       "3 2017-03-04      240061   1492913         1855353     1079194579   \n",
       "4 2017-03-05      446314   1594712         2041418     1357736987   \n",
       "5 2017-03-06      342997   1330689         1742540     1140228426   \n",
       "6 2017-03-07      227313   1363579         1821742     1113811802   \n",
       "7 2017-03-08      180313   1353483         1795456     1083475096   \n",
       "8 2017-03-09      178800   1345428         1794157     1067636147   \n",
       "9 2017-03-10      201180   1344540         1834967     1081234843   \n",
       "\n",
       "   Cricket_match_india  Character_A  days  weekday  \n",
       "0                    0            0     1        4  \n",
       "1                    0            0     2        5  \n",
       "2                    0            0     3        6  \n",
       "3                    1            0     4        7  \n",
       "4                    0            0     5        1  \n",
       "5                    0            0     6        2  \n",
       "6                    0            0     7        3  \n",
       "7                    0            0     8        4  \n",
       "8                    0            0     9        5  \n",
       "9                    0            0    10        6  "
      ]
     },
     "execution_count": 16,
     "metadata": {},
     "output_type": "execute_result"
    }
   ],
   "source": [
    "media.head(10)"
   ]
  },
  {
   "cell_type": "markdown",
   "metadata": {},
   "source": [
    "## Making first model with visitors and weekday "
   ]
  },
  {
   "cell_type": "code",
   "execution_count": 17,
   "metadata": {},
   "outputs": [
    {
     "data": {
      "text/html": [
       "<div>\n",
       "<style scoped>\n",
       "    .dataframe tbody tr th:only-of-type {\n",
       "        vertical-align: middle;\n",
       "    }\n",
       "\n",
       "    .dataframe tbody tr th {\n",
       "        vertical-align: top;\n",
       "    }\n",
       "\n",
       "    .dataframe thead th {\n",
       "        text-align: right;\n",
       "    }\n",
       "</style>\n",
       "<table border=\"1\" class=\"dataframe\">\n",
       "  <thead>\n",
       "    <tr style=\"text-align: right;\">\n",
       "      <th></th>\n",
       "      <th>Visitors</th>\n",
       "      <th>weekday</th>\n",
       "    </tr>\n",
       "  </thead>\n",
       "  <tbody>\n",
       "    <tr>\n",
       "      <th>0</th>\n",
       "      <td>1260228</td>\n",
       "      <td>4</td>\n",
       "    </tr>\n",
       "    <tr>\n",
       "      <th>1</th>\n",
       "      <td>1270561</td>\n",
       "      <td>5</td>\n",
       "    </tr>\n",
       "    <tr>\n",
       "      <th>2</th>\n",
       "      <td>1248183</td>\n",
       "      <td>6</td>\n",
       "    </tr>\n",
       "    <tr>\n",
       "      <th>3</th>\n",
       "      <td>1492913</td>\n",
       "      <td>7</td>\n",
       "    </tr>\n",
       "    <tr>\n",
       "      <th>4</th>\n",
       "      <td>1594712</td>\n",
       "      <td>1</td>\n",
       "    </tr>\n",
       "    <tr>\n",
       "      <th>...</th>\n",
       "      <td>...</td>\n",
       "      <td>...</td>\n",
       "    </tr>\n",
       "    <tr>\n",
       "      <th>75</th>\n",
       "      <td>1808684</td>\n",
       "      <td>2</td>\n",
       "    </tr>\n",
       "    <tr>\n",
       "      <th>76</th>\n",
       "      <td>1814227</td>\n",
       "      <td>3</td>\n",
       "    </tr>\n",
       "    <tr>\n",
       "      <th>77</th>\n",
       "      <td>1755803</td>\n",
       "      <td>4</td>\n",
       "    </tr>\n",
       "    <tr>\n",
       "      <th>78</th>\n",
       "      <td>1749654</td>\n",
       "      <td>5</td>\n",
       "    </tr>\n",
       "    <tr>\n",
       "      <th>79</th>\n",
       "      <td>1746735</td>\n",
       "      <td>6</td>\n",
       "    </tr>\n",
       "  </tbody>\n",
       "</table>\n",
       "<p>80 rows × 2 columns</p>\n",
       "</div>"
      ],
      "text/plain": [
       "    Visitors  weekday\n",
       "0    1260228        4\n",
       "1    1270561        5\n",
       "2    1248183        6\n",
       "3    1492913        7\n",
       "4    1594712        1\n",
       "..       ...      ...\n",
       "75   1808684        2\n",
       "76   1814227        3\n",
       "77   1755803        4\n",
       "78   1749654        5\n",
       "79   1746735        6\n",
       "\n",
       "[80 rows x 2 columns]"
      ]
     },
     "execution_count": 17,
     "metadata": {},
     "output_type": "execute_result"
    }
   ],
   "source": [
    "X=media[[\"Visitors\",\"weekday\"]]\n",
    "X"
   ]
  },
  {
   "cell_type": "code",
   "execution_count": 18,
   "metadata": {},
   "outputs": [
    {
     "data": {
      "text/plain": [
       "0     183738\n",
       "1     193763\n",
       "2     210479\n",
       "3     240061\n",
       "4     446314\n",
       "       ...  \n",
       "75    313945\n",
       "76    185689\n",
       "77    142260\n",
       "78    135871\n",
       "79    108961\n",
       "Name: Views_show, Length: 80, dtype: int64"
      ]
     },
     "execution_count": 18,
     "metadata": {},
     "output_type": "execute_result"
    }
   ],
   "source": [
    "y=media[\"Views_show\"]\n",
    "y"
   ]
  },
  {
   "cell_type": "code",
   "execution_count": 19,
   "metadata": {},
   "outputs": [],
   "source": [
    "# Representing LinearRegression as lr(Creating LinearRegression Object)\n",
    "from sklearn.linear_model import LinearRegression\n",
    "lm = LinearRegression()"
   ]
  },
  {
   "cell_type": "code",
   "execution_count": 20,
   "metadata": {},
   "outputs": [
    {
     "data": {
      "text/plain": [
       "LinearRegression()"
      ]
     },
     "execution_count": 20,
     "metadata": {},
     "output_type": "execute_result"
    }
   ],
   "source": [
    "lm.fit(X,y)"
   ]
  },
  {
   "cell_type": "code",
   "execution_count": 21,
   "metadata": {},
   "outputs": [
    {
     "name": "stdout",
     "output_type": "stream",
     "text": [
      "                            OLS Regression Results                            \n",
      "==============================================================================\n",
      "Dep. Variable:             Views_show   R-squared:                       0.485\n",
      "Model:                            OLS   Adj. R-squared:                  0.472\n",
      "Method:                 Least Squares   F-statistic:                     36.26\n",
      "Date:                Sun, 09 Aug 2020   Prob (F-statistic):           8.01e-12\n",
      "Time:                        21:25:55   Log-Likelihood:                -1042.5\n",
      "No. Observations:                  80   AIC:                             2091.\n",
      "Df Residuals:                      77   BIC:                             2098.\n",
      "Df Model:                           2                                         \n",
      "Covariance Type:            nonrobust                                         \n",
      "==============================================================================\n",
      "                 coef    std err          t      P>|t|      [0.025      0.975]\n",
      "------------------------------------------------------------------------------\n",
      "const      -3.862e+04   1.07e+05     -0.360      0.720   -2.52e+05    1.75e+05\n",
      "Visitors       0.2787      0.057      4.911      0.000       0.166       0.392\n",
      "weekday    -3.591e+04   6591.205     -5.448      0.000    -4.9e+04   -2.28e+04\n",
      "==============================================================================\n",
      "Omnibus:                        2.684   Durbin-Watson:                   0.650\n",
      "Prob(Omnibus):                  0.261   Jarque-Bera (JB):                2.653\n",
      "Skew:                           0.423   Prob(JB):                        0.265\n",
      "Kurtosis:                       2.718   Cond. No.                     1.46e+07\n",
      "==============================================================================\n",
      "\n",
      "Warnings:\n",
      "[1] Standard Errors assume that the covariance matrix of the errors is correctly specified.\n",
      "[2] The condition number is large, 1.46e+07. This might indicate that there are\n",
      "strong multicollinearity or other numerical problems.\n"
     ]
    }
   ],
   "source": [
    "import statsmodels.api as sm\n",
    "#Unlike SKLearn, statsmodels don't automatically fit a constant, \n",
    "#so you need to use the method sm.add_constant(X) in order to add a constant. \n",
    "X = sm.add_constant(X)\n",
    "# create a fitted model in one line\n",
    "lm_1 = sm.OLS(y,X).fit()\n",
    "print(lm_1.summary())"
   ]
  },
  {
   "cell_type": "code",
   "execution_count": 22,
   "metadata": {},
   "outputs": [],
   "source": [
    "# create Weekend variable, with value 1 at weekends and 0 at weekdays\n",
    "def cond(i):\n",
    "    if i % 7 == 5: return 1\n",
    "    elif i % 7 == 4: return 1\n",
    "    else :return 0\n",
    "    return i\n",
    "\n",
    "media['weekend']=[cond(i) for i in media['days']]"
   ]
  },
  {
   "cell_type": "code",
   "execution_count": 23,
   "metadata": {},
   "outputs": [
    {
     "data": {
      "text/html": [
       "<div>\n",
       "<style scoped>\n",
       "    .dataframe tbody tr th:only-of-type {\n",
       "        vertical-align: middle;\n",
       "    }\n",
       "\n",
       "    .dataframe tbody tr th {\n",
       "        vertical-align: top;\n",
       "    }\n",
       "\n",
       "    .dataframe thead th {\n",
       "        text-align: right;\n",
       "    }\n",
       "</style>\n",
       "<table border=\"1\" class=\"dataframe\">\n",
       "  <thead>\n",
       "    <tr style=\"text-align: right;\">\n",
       "      <th></th>\n",
       "      <th>Date</th>\n",
       "      <th>Views_show</th>\n",
       "      <th>Visitors</th>\n",
       "      <th>Views_platform</th>\n",
       "      <th>Ad_impression</th>\n",
       "      <th>Cricket_match_india</th>\n",
       "      <th>Character_A</th>\n",
       "      <th>days</th>\n",
       "      <th>weekday</th>\n",
       "      <th>weekend</th>\n",
       "    </tr>\n",
       "  </thead>\n",
       "  <tbody>\n",
       "    <tr>\n",
       "      <th>0</th>\n",
       "      <td>2017-03-01</td>\n",
       "      <td>183738</td>\n",
       "      <td>1260228</td>\n",
       "      <td>1706478</td>\n",
       "      <td>1060860448</td>\n",
       "      <td>0</td>\n",
       "      <td>0</td>\n",
       "      <td>1</td>\n",
       "      <td>4</td>\n",
       "      <td>0</td>\n",
       "    </tr>\n",
       "    <tr>\n",
       "      <th>1</th>\n",
       "      <td>2017-03-02</td>\n",
       "      <td>193763</td>\n",
       "      <td>1270561</td>\n",
       "      <td>1690727</td>\n",
       "      <td>1031846645</td>\n",
       "      <td>0</td>\n",
       "      <td>0</td>\n",
       "      <td>2</td>\n",
       "      <td>5</td>\n",
       "      <td>0</td>\n",
       "    </tr>\n",
       "    <tr>\n",
       "      <th>2</th>\n",
       "      <td>2017-03-03</td>\n",
       "      <td>210479</td>\n",
       "      <td>1248183</td>\n",
       "      <td>1726157</td>\n",
       "      <td>1010867575</td>\n",
       "      <td>0</td>\n",
       "      <td>0</td>\n",
       "      <td>3</td>\n",
       "      <td>6</td>\n",
       "      <td>0</td>\n",
       "    </tr>\n",
       "    <tr>\n",
       "      <th>3</th>\n",
       "      <td>2017-03-04</td>\n",
       "      <td>240061</td>\n",
       "      <td>1492913</td>\n",
       "      <td>1855353</td>\n",
       "      <td>1079194579</td>\n",
       "      <td>1</td>\n",
       "      <td>0</td>\n",
       "      <td>4</td>\n",
       "      <td>7</td>\n",
       "      <td>1</td>\n",
       "    </tr>\n",
       "    <tr>\n",
       "      <th>4</th>\n",
       "      <td>2017-03-05</td>\n",
       "      <td>446314</td>\n",
       "      <td>1594712</td>\n",
       "      <td>2041418</td>\n",
       "      <td>1357736987</td>\n",
       "      <td>0</td>\n",
       "      <td>0</td>\n",
       "      <td>5</td>\n",
       "      <td>1</td>\n",
       "      <td>1</td>\n",
       "    </tr>\n",
       "  </tbody>\n",
       "</table>\n",
       "</div>"
      ],
      "text/plain": [
       "        Date  Views_show  Visitors  Views_platform  Ad_impression  \\\n",
       "0 2017-03-01      183738   1260228         1706478     1060860448   \n",
       "1 2017-03-02      193763   1270561         1690727     1031846645   \n",
       "2 2017-03-03      210479   1248183         1726157     1010867575   \n",
       "3 2017-03-04      240061   1492913         1855353     1079194579   \n",
       "4 2017-03-05      446314   1594712         2041418     1357736987   \n",
       "\n",
       "   Cricket_match_india  Character_A  days  weekday  weekend  \n",
       "0                    0            0     1        4        0  \n",
       "1                    0            0     2        5        0  \n",
       "2                    0            0     3        6        0  \n",
       "3                    1            0     4        7        1  \n",
       "4                    0            0     5        1        1  "
      ]
     },
     "execution_count": 23,
     "metadata": {},
     "output_type": "execute_result"
    }
   ],
   "source": [
    "media.head()"
   ]
  },
  {
   "cell_type": "code",
   "execution_count": null,
   "metadata": {},
   "outputs": [],
   "source": []
  },
  {
   "cell_type": "code",
   "execution_count": 24,
   "metadata": {},
   "outputs": [],
   "source": [
    "# Putting feature variable to X\n",
    "X = media[['Visitors','weekend']]\n",
    "\n",
    "# Putting response variable to y\n",
    "y = media['Views_show']"
   ]
  },
  {
   "cell_type": "code",
   "execution_count": 25,
   "metadata": {},
   "outputs": [
    {
     "name": "stdout",
     "output_type": "stream",
     "text": [
      "                            OLS Regression Results                            \n",
      "==============================================================================\n",
      "Dep. Variable:             Views_show   R-squared:                       0.500\n",
      "Model:                            OLS   Adj. R-squared:                  0.487\n",
      "Method:                 Least Squares   F-statistic:                     38.55\n",
      "Date:                Sun, 09 Aug 2020   Prob (F-statistic):           2.51e-12\n",
      "Time:                        21:25:55   Log-Likelihood:                -1041.3\n",
      "No. Observations:                  80   AIC:                             2089.\n",
      "Df Residuals:                      77   BIC:                             2096.\n",
      "Df Model:                           2                                         \n",
      "Covariance Type:            nonrobust                                         \n",
      "==============================================================================\n",
      "                 coef    std err          t      P>|t|      [0.025      0.975]\n",
      "------------------------------------------------------------------------------\n",
      "const      -8.833e+04   1.01e+05     -0.875      0.384   -2.89e+05    1.13e+05\n",
      "Visitors       0.1934      0.061      3.160      0.002       0.071       0.315\n",
      "weekend     1.807e+05   3.15e+04      5.740      0.000    1.18e+05    2.43e+05\n",
      "==============================================================================\n",
      "Omnibus:                        1.302   Durbin-Watson:                   1.254\n",
      "Prob(Omnibus):                  0.521   Jarque-Bera (JB):                1.367\n",
      "Skew:                           0.270   Prob(JB):                        0.505\n",
      "Kurtosis:                       2.656   Cond. No.                     1.41e+07\n",
      "==============================================================================\n",
      "\n",
      "Warnings:\n",
      "[1] Standard Errors assume that the covariance matrix of the errors is correctly specified.\n",
      "[2] The condition number is large, 1.41e+07. This might indicate that there are\n",
      "strong multicollinearity or other numerical problems.\n"
     ]
    }
   ],
   "source": [
    "import statsmodels.api as sm\n",
    "#Unlike SKLearn, statsmodels don't automatically fit a constant, \n",
    "#so you need to use the method sm.add_constant(X) in order to add a constant. \n",
    "X = sm.add_constant(X)\n",
    "# create a fitted model in one line\n",
    "lm_2 = sm.OLS(y,X).fit()\n",
    "print(lm_2.summary())"
   ]
  },
  {
   "cell_type": "code",
   "execution_count": null,
   "metadata": {},
   "outputs": [],
   "source": []
  },
  {
   "cell_type": "code",
   "execution_count": 26,
   "metadata": {},
   "outputs": [],
   "source": [
    "# Putting feature variable to X\n",
    "X = media[['Visitors','weekend','Character_A']]\n",
    "\n",
    "# Putting response variable to y\n",
    "y = media['Views_show']"
   ]
  },
  {
   "cell_type": "code",
   "execution_count": 27,
   "metadata": {},
   "outputs": [
    {
     "name": "stdout",
     "output_type": "stream",
     "text": [
      "                            OLS Regression Results                            \n",
      "==============================================================================\n",
      "Dep. Variable:             Views_show   R-squared:                       0.586\n",
      "Model:                            OLS   Adj. R-squared:                  0.570\n",
      "Method:                 Least Squares   F-statistic:                     35.84\n",
      "Date:                Sun, 09 Aug 2020   Prob (F-statistic):           1.53e-14\n",
      "Time:                        21:25:56   Log-Likelihood:                -1033.8\n",
      "No. Observations:                  80   AIC:                             2076.\n",
      "Df Residuals:                      76   BIC:                             2085.\n",
      "Df Model:                           3                                         \n",
      "Covariance Type:            nonrobust                                         \n",
      "===============================================================================\n",
      "                  coef    std err          t      P>|t|      [0.025      0.975]\n",
      "-------------------------------------------------------------------------------\n",
      "const       -4.722e+04   9.31e+04     -0.507      0.613   -2.33e+05    1.38e+05\n",
      "Visitors        0.1480      0.057      2.586      0.012       0.034       0.262\n",
      "weekend      1.812e+05   2.89e+04      6.281      0.000    1.24e+05    2.39e+05\n",
      "Character_A  9.542e+04   2.41e+04      3.963      0.000    4.75e+04    1.43e+05\n",
      "==============================================================================\n",
      "Omnibus:                        0.908   Durbin-Watson:                   1.600\n",
      "Prob(Omnibus):                  0.635   Jarque-Bera (JB):                0.876\n",
      "Skew:                          -0.009   Prob(JB):                        0.645\n",
      "Kurtosis:                       2.488   Cond. No.                     1.42e+07\n",
      "==============================================================================\n",
      "\n",
      "Warnings:\n",
      "[1] Standard Errors assume that the covariance matrix of the errors is correctly specified.\n",
      "[2] The condition number is large, 1.42e+07. This might indicate that there are\n",
      "strong multicollinearity or other numerical problems.\n"
     ]
    }
   ],
   "source": [
    "import statsmodels.api as sm\n",
    "#Unlike SKLearn, statsmodels don't automatically fit a constant, \n",
    "#so you need to use the method sm.add_constant(X) in order to add a constant. \n",
    "X = sm.add_constant(X)\n",
    "# create a fitted model in one line\n",
    "lm_3 = sm.OLS(y,X).fit()\n",
    "print(lm_3.summary())"
   ]
  },
  {
   "cell_type": "code",
   "execution_count": 29,
   "metadata": {},
   "outputs": [],
   "source": [
    "# Creating new derived lag_veiws column- previes day views\n",
    "media['lag_views']=np.roll(media['Views_show'], 1)"
   ]
  },
  {
   "cell_type": "code",
   "execution_count": 30,
   "metadata": {},
   "outputs": [
    {
     "data": {
      "text/html": [
       "<div>\n",
       "<style scoped>\n",
       "    .dataframe tbody tr th:only-of-type {\n",
       "        vertical-align: middle;\n",
       "    }\n",
       "\n",
       "    .dataframe tbody tr th {\n",
       "        vertical-align: top;\n",
       "    }\n",
       "\n",
       "    .dataframe thead th {\n",
       "        text-align: right;\n",
       "    }\n",
       "</style>\n",
       "<table border=\"1\" class=\"dataframe\">\n",
       "  <thead>\n",
       "    <tr style=\"text-align: right;\">\n",
       "      <th></th>\n",
       "      <th>Date</th>\n",
       "      <th>Views_show</th>\n",
       "      <th>Visitors</th>\n",
       "      <th>Views_platform</th>\n",
       "      <th>Ad_impression</th>\n",
       "      <th>Cricket_match_india</th>\n",
       "      <th>Character_A</th>\n",
       "      <th>days</th>\n",
       "      <th>weekday</th>\n",
       "      <th>weekend</th>\n",
       "      <th>lag_views</th>\n",
       "    </tr>\n",
       "  </thead>\n",
       "  <tbody>\n",
       "    <tr>\n",
       "      <th>0</th>\n",
       "      <td>2017-03-01</td>\n",
       "      <td>183738</td>\n",
       "      <td>1260228</td>\n",
       "      <td>1706478</td>\n",
       "      <td>1060860448</td>\n",
       "      <td>0</td>\n",
       "      <td>0</td>\n",
       "      <td>1</td>\n",
       "      <td>4</td>\n",
       "      <td>0</td>\n",
       "      <td>108961</td>\n",
       "    </tr>\n",
       "    <tr>\n",
       "      <th>1</th>\n",
       "      <td>2017-03-02</td>\n",
       "      <td>193763</td>\n",
       "      <td>1270561</td>\n",
       "      <td>1690727</td>\n",
       "      <td>1031846645</td>\n",
       "      <td>0</td>\n",
       "      <td>0</td>\n",
       "      <td>2</td>\n",
       "      <td>5</td>\n",
       "      <td>0</td>\n",
       "      <td>183738</td>\n",
       "    </tr>\n",
       "    <tr>\n",
       "      <th>2</th>\n",
       "      <td>2017-03-03</td>\n",
       "      <td>210479</td>\n",
       "      <td>1248183</td>\n",
       "      <td>1726157</td>\n",
       "      <td>1010867575</td>\n",
       "      <td>0</td>\n",
       "      <td>0</td>\n",
       "      <td>3</td>\n",
       "      <td>6</td>\n",
       "      <td>0</td>\n",
       "      <td>193763</td>\n",
       "    </tr>\n",
       "    <tr>\n",
       "      <th>3</th>\n",
       "      <td>2017-03-04</td>\n",
       "      <td>240061</td>\n",
       "      <td>1492913</td>\n",
       "      <td>1855353</td>\n",
       "      <td>1079194579</td>\n",
       "      <td>1</td>\n",
       "      <td>0</td>\n",
       "      <td>4</td>\n",
       "      <td>7</td>\n",
       "      <td>1</td>\n",
       "      <td>210479</td>\n",
       "    </tr>\n",
       "    <tr>\n",
       "      <th>4</th>\n",
       "      <td>2017-03-05</td>\n",
       "      <td>446314</td>\n",
       "      <td>1594712</td>\n",
       "      <td>2041418</td>\n",
       "      <td>1357736987</td>\n",
       "      <td>0</td>\n",
       "      <td>0</td>\n",
       "      <td>5</td>\n",
       "      <td>1</td>\n",
       "      <td>1</td>\n",
       "      <td>240061</td>\n",
       "    </tr>\n",
       "  </tbody>\n",
       "</table>\n",
       "</div>"
      ],
      "text/plain": [
       "        Date  Views_show  Visitors  Views_platform  Ad_impression  \\\n",
       "0 2017-03-01      183738   1260228         1706478     1060860448   \n",
       "1 2017-03-02      193763   1270561         1690727     1031846645   \n",
       "2 2017-03-03      210479   1248183         1726157     1010867575   \n",
       "3 2017-03-04      240061   1492913         1855353     1079194579   \n",
       "4 2017-03-05      446314   1594712         2041418     1357736987   \n",
       "\n",
       "   Cricket_match_india  Character_A  days  weekday  weekend  lag_views  \n",
       "0                    0            0     1        4        0     108961  \n",
       "1                    0            0     2        5        0     183738  \n",
       "2                    0            0     3        6        0     193763  \n",
       "3                    1            0     4        7        1     210479  \n",
       "4                    0            0     5        1        1     240061  "
      ]
     },
     "execution_count": 30,
     "metadata": {},
     "output_type": "execute_result"
    }
   ],
   "source": [
    "media.head()"
   ]
  },
  {
   "cell_type": "code",
   "execution_count": 31,
   "metadata": {},
   "outputs": [],
   "source": [
    "# making first lag_views as 0\n",
    "media.lag_views.replace(108961, 0, inplace=True)"
   ]
  },
  {
   "cell_type": "code",
   "execution_count": 32,
   "metadata": {},
   "outputs": [
    {
     "data": {
      "text/html": [
       "<div>\n",
       "<style scoped>\n",
       "    .dataframe tbody tr th:only-of-type {\n",
       "        vertical-align: middle;\n",
       "    }\n",
       "\n",
       "    .dataframe tbody tr th {\n",
       "        vertical-align: top;\n",
       "    }\n",
       "\n",
       "    .dataframe thead th {\n",
       "        text-align: right;\n",
       "    }\n",
       "</style>\n",
       "<table border=\"1\" class=\"dataframe\">\n",
       "  <thead>\n",
       "    <tr style=\"text-align: right;\">\n",
       "      <th></th>\n",
       "      <th>Date</th>\n",
       "      <th>Views_show</th>\n",
       "      <th>Visitors</th>\n",
       "      <th>Views_platform</th>\n",
       "      <th>Ad_impression</th>\n",
       "      <th>Cricket_match_india</th>\n",
       "      <th>Character_A</th>\n",
       "      <th>days</th>\n",
       "      <th>weekday</th>\n",
       "      <th>weekend</th>\n",
       "      <th>lag_views</th>\n",
       "    </tr>\n",
       "  </thead>\n",
       "  <tbody>\n",
       "    <tr>\n",
       "      <th>0</th>\n",
       "      <td>2017-03-01</td>\n",
       "      <td>183738</td>\n",
       "      <td>1260228</td>\n",
       "      <td>1706478</td>\n",
       "      <td>1060860448</td>\n",
       "      <td>0</td>\n",
       "      <td>0</td>\n",
       "      <td>1</td>\n",
       "      <td>4</td>\n",
       "      <td>0</td>\n",
       "      <td>0</td>\n",
       "    </tr>\n",
       "    <tr>\n",
       "      <th>1</th>\n",
       "      <td>2017-03-02</td>\n",
       "      <td>193763</td>\n",
       "      <td>1270561</td>\n",
       "      <td>1690727</td>\n",
       "      <td>1031846645</td>\n",
       "      <td>0</td>\n",
       "      <td>0</td>\n",
       "      <td>2</td>\n",
       "      <td>5</td>\n",
       "      <td>0</td>\n",
       "      <td>183738</td>\n",
       "    </tr>\n",
       "    <tr>\n",
       "      <th>2</th>\n",
       "      <td>2017-03-03</td>\n",
       "      <td>210479</td>\n",
       "      <td>1248183</td>\n",
       "      <td>1726157</td>\n",
       "      <td>1010867575</td>\n",
       "      <td>0</td>\n",
       "      <td>0</td>\n",
       "      <td>3</td>\n",
       "      <td>6</td>\n",
       "      <td>0</td>\n",
       "      <td>193763</td>\n",
       "    </tr>\n",
       "    <tr>\n",
       "      <th>3</th>\n",
       "      <td>2017-03-04</td>\n",
       "      <td>240061</td>\n",
       "      <td>1492913</td>\n",
       "      <td>1855353</td>\n",
       "      <td>1079194579</td>\n",
       "      <td>1</td>\n",
       "      <td>0</td>\n",
       "      <td>4</td>\n",
       "      <td>7</td>\n",
       "      <td>1</td>\n",
       "      <td>210479</td>\n",
       "    </tr>\n",
       "    <tr>\n",
       "      <th>4</th>\n",
       "      <td>2017-03-05</td>\n",
       "      <td>446314</td>\n",
       "      <td>1594712</td>\n",
       "      <td>2041418</td>\n",
       "      <td>1357736987</td>\n",
       "      <td>0</td>\n",
       "      <td>0</td>\n",
       "      <td>5</td>\n",
       "      <td>1</td>\n",
       "      <td>1</td>\n",
       "      <td>240061</td>\n",
       "    </tr>\n",
       "  </tbody>\n",
       "</table>\n",
       "</div>"
      ],
      "text/plain": [
       "        Date  Views_show  Visitors  Views_platform  Ad_impression  \\\n",
       "0 2017-03-01      183738   1260228         1706478     1060860448   \n",
       "1 2017-03-02      193763   1270561         1690727     1031846645   \n",
       "2 2017-03-03      210479   1248183         1726157     1010867575   \n",
       "3 2017-03-04      240061   1492913         1855353     1079194579   \n",
       "4 2017-03-05      446314   1594712         2041418     1357736987   \n",
       "\n",
       "   Cricket_match_india  Character_A  days  weekday  weekend  lag_views  \n",
       "0                    0            0     1        4        0          0  \n",
       "1                    0            0     2        5        0     183738  \n",
       "2                    0            0     3        6        0     193763  \n",
       "3                    1            0     4        7        1     210479  \n",
       "4                    0            0     5        1        1     240061  "
      ]
     },
     "execution_count": 32,
     "metadata": {},
     "output_type": "execute_result"
    }
   ],
   "source": [
    "media.head()"
   ]
  },
  {
   "cell_type": "code",
   "execution_count": 35,
   "metadata": {},
   "outputs": [],
   "source": [
    "# Putting feature variable to X\n",
    "X = media[['Visitors','Character_A','lag_views','weekend']]\n",
    "\n",
    "# Putting response variable to y\n",
    "y = media['Views_show']"
   ]
  },
  {
   "cell_type": "code",
   "execution_count": 38,
   "metadata": {},
   "outputs": [
    {
     "name": "stdout",
     "output_type": "stream",
     "text": [
      "                            OLS Regression Results                            \n",
      "==============================================================================\n",
      "Dep. Variable:             Views_show   R-squared:                       0.740\n",
      "Model:                            OLS   Adj. R-squared:                  0.726\n",
      "Method:                 Least Squares   F-statistic:                     53.46\n",
      "Date:                Sun, 09 Aug 2020   Prob (F-statistic):           3.16e-21\n",
      "Time:                        22:09:27   Log-Likelihood:                -1015.1\n",
      "No. Observations:                  80   AIC:                             2040.\n",
      "Df Residuals:                      75   BIC:                             2052.\n",
      "Df Model:                           4                                         \n",
      "Covariance Type:            nonrobust                                         \n",
      "===============================================================================\n",
      "                  coef    std err          t      P>|t|      [0.025      0.975]\n",
      "-------------------------------------------------------------------------------\n",
      "const        -2.98e+04   7.43e+04     -0.401      0.689   -1.78e+05    1.18e+05\n",
      "Visitors        0.0659      0.047      1.394      0.167      -0.028       0.160\n",
      "Character_A  5.527e+04   2.01e+04      2.748      0.008    1.52e+04    9.53e+04\n",
      "lag_views       0.4317      0.065      6.679      0.000       0.303       0.560\n",
      "weekend      2.273e+05    2.4e+04      9.467      0.000    1.79e+05    2.75e+05\n",
      "==============================================================================\n",
      "Omnibus:                        1.425   Durbin-Watson:                   2.626\n",
      "Prob(Omnibus):                  0.491   Jarque-Bera (JB):                0.821\n",
      "Skew:                          -0.130   Prob(JB):                        0.663\n",
      "Kurtosis:                       3.423   Cond. No.                     1.44e+07\n",
      "==============================================================================\n",
      "\n",
      "Warnings:\n",
      "[1] Standard Errors assume that the covariance matrix of the errors is correctly specified.\n",
      "[2] The condition number is large, 1.44e+07. This might indicate that there are\n",
      "strong multicollinearity or other numerical problems.\n"
     ]
    }
   ],
   "source": [
    "# ols model\n",
    "X=sm.add_constant(X)\n",
    "lm_4=sm.OLS(y,X).fit()\n",
    "print(lm_4.summary())"
   ]
  },
  {
   "cell_type": "code",
   "execution_count": 39,
   "metadata": {},
   "outputs": [],
   "source": [
    "# as lag_views can good predictor but it is useles for business perspective\n",
    "# now we see our visitors p value incresed to 16%\n"
   ]
  },
  {
   "cell_type": "code",
   "execution_count": 41,
   "metadata": {},
   "outputs": [
    {
     "data": {
      "text/plain": [
       "<matplotlib.axes._subplots.AxesSubplot at 0x53c9e30>"
      ]
     },
     "execution_count": 41,
     "metadata": {},
     "output_type": "execute_result"
    },
    {
     "data": {
      "image/png": "[encoded data removed]",
      "text/plain": [
       "<Figure size 1656x864 with 2 Axes>"
      ]
     },
     "metadata": {
      "needs_background": "light"
     },
     "output_type": "display_data"
    }
   ],
   "source": [
    "# checking co-relation\n",
    "plt.figure(figsize=(23,12))\n",
    "sns.heatmap(media.corr(), annot=True)"
   ]
  },
  {
   "cell_type": "code",
   "execution_count": 42,
   "metadata": {},
   "outputs": [],
   "source": [
    "# Putting feature variable to X\n",
    "X = media[['weekend','Character_A','Views_platform']]\n",
    "\n",
    "# Putting response variable to y\n",
    "y = media['Views_show']"
   ]
  },
  {
   "cell_type": "code",
   "execution_count": 43,
   "metadata": {},
   "outputs": [
    {
     "name": "stdout",
     "output_type": "stream",
     "text": [
      "                            OLS Regression Results                            \n",
      "==============================================================================\n",
      "Dep. Variable:             Views_show   R-squared:                       0.602\n",
      "Model:                            OLS   Adj. R-squared:                  0.586\n",
      "Method:                 Least Squares   F-statistic:                     38.24\n",
      "Date:                Sun, 09 Aug 2020   Prob (F-statistic):           3.59e-15\n",
      "Time:                        22:30:24   Log-Likelihood:                -1032.3\n",
      "No. Observations:                  80   AIC:                             2073.\n",
      "Df Residuals:                      76   BIC:                             2082.\n",
      "Df Model:                           3                                         \n",
      "Covariance Type:            nonrobust                                         \n",
      "==================================================================================\n",
      "                     coef    std err          t      P>|t|      [0.025      0.975]\n",
      "----------------------------------------------------------------------------------\n",
      "const          -1.205e+05   9.97e+04     -1.208      0.231   -3.19e+05    7.81e+04\n",
      "weekend         1.781e+05   2.78e+04      6.410      0.000    1.23e+05    2.33e+05\n",
      "Character_A     7.062e+04    2.6e+04      2.717      0.008    1.89e+04    1.22e+05\n",
      "Views_platform     0.1507      0.048      3.152      0.002       0.055       0.246\n",
      "==============================================================================\n",
      "Omnibus:                        4.279   Durbin-Watson:                   1.516\n",
      "Prob(Omnibus):                  0.118   Jarque-Bera (JB):                2.153\n",
      "Skew:                           0.061   Prob(JB):                        0.341\n",
      "Kurtosis:                       2.206   Cond. No.                     2.03e+07\n",
      "==============================================================================\n",
      "\n",
      "Warnings:\n",
      "[1] Standard Errors assume that the covariance matrix of the errors is correctly specified.\n",
      "[2] The condition number is large, 2.03e+07. This might indicate that there are\n",
      "strong multicollinearity or other numerical problems.\n"
     ]
    }
   ],
   "source": [
    "X = sm.add_constant(X)\n",
    "# create a fitted model in one line\n",
    "lm_5 = sm.OLS(y,X).fit()\n",
    "print(lm_5.summary())"
   ]
  },
  {
   "cell_type": "code",
   "execution_count": 45,
   "metadata": {},
   "outputs": [],
   "source": [
    "# Putting feature variable to X\n",
    "X = media[['weekend','Character_A','Visitors']]\n",
    "\n",
    "# Putting response variable to y\n",
    "y = media['Views_show']"
   ]
  },
  {
   "cell_type": "code",
   "execution_count": 46,
   "metadata": {},
   "outputs": [
    {
     "name": "stdout",
     "output_type": "stream",
     "text": [
      "                            OLS Regression Results                            \n",
      "==============================================================================\n",
      "Dep. Variable:             Views_show   R-squared:                       0.586\n",
      "Model:                            OLS   Adj. R-squared:                  0.570\n",
      "Method:                 Least Squares   F-statistic:                     35.84\n",
      "Date:                Sun, 09 Aug 2020   Prob (F-statistic):           1.53e-14\n",
      "Time:                        22:31:59   Log-Likelihood:                -1033.8\n",
      "No. Observations:                  80   AIC:                             2076.\n",
      "Df Residuals:                      76   BIC:                             2085.\n",
      "Df Model:                           3                                         \n",
      "Covariance Type:            nonrobust                                         \n",
      "===============================================================================\n",
      "                  coef    std err          t      P>|t|      [0.025      0.975]\n",
      "-------------------------------------------------------------------------------\n",
      "const       -4.722e+04   9.31e+04     -0.507      0.613   -2.33e+05    1.38e+05\n",
      "weekend      1.812e+05   2.89e+04      6.281      0.000    1.24e+05    2.39e+05\n",
      "Character_A  9.542e+04   2.41e+04      3.963      0.000    4.75e+04    1.43e+05\n",
      "Visitors        0.1480      0.057      2.586      0.012       0.034       0.262\n",
      "==============================================================================\n",
      "Omnibus:                        0.908   Durbin-Watson:                   1.600\n",
      "Prob(Omnibus):                  0.635   Jarque-Bera (JB):                0.876\n",
      "Skew:                          -0.009   Prob(JB):                        0.645\n",
      "Kurtosis:                       2.488   Cond. No.                     1.42e+07\n",
      "==============================================================================\n",
      "\n",
      "Warnings:\n",
      "[1] Standard Errors assume that the covariance matrix of the errors is correctly specified.\n",
      "[2] The condition number is large, 1.42e+07. This might indicate that there are\n",
      "strong multicollinearity or other numerical problems.\n"
     ]
    }
   ],
   "source": [
    "X = sm.add_constant(X)\n",
    "# create a fitted model in one line\n",
    "lm_6 = sm.OLS(y,X).fit()\n",
    "print(lm_6.summary())"
   ]
  },
  {
   "cell_type": "code",
   "execution_count": 47,
   "metadata": {},
   "outputs": [],
   "source": [
    "# Putting feature variable to X\n",
    "X = media[['weekend','Character_A','Visitors','Ad_impression']]\n",
    "\n",
    "# Putting response variable to y\n",
    "y = media['Views_show']"
   ]
  },
  {
   "cell_type": "code",
   "execution_count": 48,
   "metadata": {},
   "outputs": [
    {
     "name": "stdout",
     "output_type": "stream",
     "text": [
      "                            OLS Regression Results                            \n",
      "==============================================================================\n",
      "Dep. Variable:             Views_show   R-squared:                       0.803\n",
      "Model:                            OLS   Adj. R-squared:                  0.792\n",
      "Method:                 Least Squares   F-statistic:                     76.40\n",
      "Date:                Sun, 09 Aug 2020   Prob (F-statistic):           1.10e-25\n",
      "Time:                        22:32:31   Log-Likelihood:                -1004.1\n",
      "No. Observations:                  80   AIC:                             2018.\n",
      "Df Residuals:                      75   BIC:                             2030.\n",
      "Df Model:                           4                                         \n",
      "Covariance Type:            nonrobust                                         \n",
      "=================================================================================\n",
      "                    coef    std err          t      P>|t|      [0.025      0.975]\n",
      "---------------------------------------------------------------------------------\n",
      "const         -2.834e+05   6.97e+04     -4.067      0.000   -4.22e+05   -1.45e+05\n",
      "weekend        1.485e+05   2.04e+04      7.296      0.000    1.08e+05    1.89e+05\n",
      "Character_A   -2.934e+04   2.16e+04     -1.356      0.179   -7.24e+04    1.38e+04\n",
      "Visitors          0.0144      0.042      0.340      0.735      -0.070       0.099\n",
      "Ad_impression     0.0004   3.96e-05      9.090      0.000       0.000       0.000\n",
      "==============================================================================\n",
      "Omnibus:                        4.808   Durbin-Watson:                   1.166\n",
      "Prob(Omnibus):                  0.090   Jarque-Bera (JB):                4.007\n",
      "Skew:                           0.476   Prob(JB):                        0.135\n",
      "Kurtosis:                       3.545   Cond. No.                     1.32e+10\n",
      "==============================================================================\n",
      "\n",
      "Warnings:\n",
      "[1] Standard Errors assume that the covariance matrix of the errors is correctly specified.\n",
      "[2] The condition number is large, 1.32e+10. This might indicate that there are\n",
      "strong multicollinearity or other numerical problems.\n"
     ]
    }
   ],
   "source": [
    "X = sm.add_constant(X)\n",
    "# create a fitted model in one line\n",
    "lm_7 = sm.OLS(y,X).fit()\n",
    "print(lm_7.summary())"
   ]
  },
  {
   "cell_type": "code",
   "execution_count": 49,
   "metadata": {},
   "outputs": [],
   "source": [
    "X = media[['weekend','Character_A','Ad_impression']]\n",
    "\n",
    "# Putting response variable to y\n",
    "y = media['Views_show']"
   ]
  },
  {
   "cell_type": "code",
   "execution_count": 50,
   "metadata": {},
   "outputs": [
    {
     "name": "stdout",
     "output_type": "stream",
     "text": [
      "                            OLS Regression Results                            \n",
      "==============================================================================\n",
      "Dep. Variable:             Views_show   R-squared:                       0.803\n",
      "Model:                            OLS   Adj. R-squared:                  0.795\n",
      "Method:                 Least Squares   F-statistic:                     103.0\n",
      "Date:                Sun, 09 Aug 2020   Prob (F-statistic):           1.05e-26\n",
      "Time:                        22:33:01   Log-Likelihood:                -1004.2\n",
      "No. Observations:                  80   AIC:                             2016.\n",
      "Df Residuals:                      76   BIC:                             2026.\n",
      "Df Model:                           3                                         \n",
      "Covariance Type:            nonrobust                                         \n",
      "=================================================================================\n",
      "                    coef    std err          t      P>|t|      [0.025      0.975]\n",
      "---------------------------------------------------------------------------------\n",
      "const         -2.661e+05   4.74e+04     -5.609      0.000   -3.61e+05   -1.72e+05\n",
      "weekend         1.51e+05   1.88e+04      8.019      0.000    1.14e+05    1.89e+05\n",
      "Character_A    -2.99e+04   2.14e+04     -1.394      0.167   -7.26e+04    1.28e+04\n",
      "Ad_impression     0.0004   3.69e-05      9.875      0.000       0.000       0.000\n",
      "==============================================================================\n",
      "Omnibus:                        4.723   Durbin-Watson:                   1.169\n",
      "Prob(Omnibus):                  0.094   Jarque-Bera (JB):                3.939\n",
      "Skew:                           0.453   Prob(JB):                        0.139\n",
      "Kurtosis:                       3.601   Cond. No.                     9.26e+09\n",
      "==============================================================================\n",
      "\n",
      "Warnings:\n",
      "[1] Standard Errors assume that the covariance matrix of the errors is correctly specified.\n",
      "[2] The condition number is large, 9.26e+09. This might indicate that there are\n",
      "strong multicollinearity or other numerical problems.\n"
     ]
    }
   ],
   "source": [
    "X = sm.add_constant(X)\n",
    "# create a fitted model in one line\n",
    "lm_8 = sm.OLS(y,X).fit()\n",
    "print(lm_8.summary())"
   ]
  },
  {
   "cell_type": "code",
   "execution_count": 51,
   "metadata": {},
   "outputs": [],
   "source": [
    "#Ad impression in million\n",
    "media['ad_impression_million'] = media['Ad_impression']/1000000"
   ]
  },
  {
   "cell_type": "code",
   "execution_count": 52,
   "metadata": {},
   "outputs": [],
   "source": [
    "# Putting feature variable to X\n",
    "X = media[['weekend','Character_A','ad_impression_million','Cricket_match_india']]\n",
    "\n",
    "# Putting response variable to y\n",
    "y = media['Views_show']"
   ]
  },
  {
   "cell_type": "code",
   "execution_count": 53,
   "metadata": {},
   "outputs": [
    {
     "name": "stdout",
     "output_type": "stream",
     "text": [
      "                            OLS Regression Results                            \n",
      "==============================================================================\n",
      "Dep. Variable:             Views_show   R-squared:                       0.803\n",
      "Model:                            OLS   Adj. R-squared:                  0.793\n",
      "Method:                 Least Squares   F-statistic:                     76.59\n",
      "Date:                Sun, 09 Aug 2020   Prob (F-statistic):           1.02e-25\n",
      "Time:                        22:33:59   Log-Likelihood:                -1004.0\n",
      "No. Observations:                  80   AIC:                             2018.\n",
      "Df Residuals:                      75   BIC:                             2030.\n",
      "Df Model:                           4                                         \n",
      "Covariance Type:            nonrobust                                         \n",
      "=========================================================================================\n",
      "                            coef    std err          t      P>|t|      [0.025      0.975]\n",
      "-----------------------------------------------------------------------------------------\n",
      "const                 -2.633e+05    4.8e+04     -5.484      0.000   -3.59e+05   -1.68e+05\n",
      "weekend                1.521e+05    1.9e+04      7.987      0.000    1.14e+05     1.9e+05\n",
      "Character_A           -3.196e+04   2.19e+04     -1.457      0.149   -7.57e+04    1.17e+04\n",
      "ad_impression_million   363.7938     37.113      9.802      0.000     289.861     437.727\n",
      "Cricket_match_india   -1.396e+04   2.74e+04     -0.510      0.612   -6.85e+04    4.06e+04\n",
      "==============================================================================\n",
      "Omnibus:                        5.270   Durbin-Watson:                   1.161\n",
      "Prob(Omnibus):                  0.072   Jarque-Bera (JB):                4.560\n",
      "Skew:                           0.468   Prob(JB):                        0.102\n",
      "Kurtosis:                       3.701   Cond. No.                     9.32e+03\n",
      "==============================================================================\n",
      "\n",
      "Warnings:\n",
      "[1] Standard Errors assume that the covariance matrix of the errors is correctly specified.\n",
      "[2] The condition number is large, 9.32e+03. This might indicate that there are\n",
      "strong multicollinearity or other numerical problems.\n"
     ]
    }
   ],
   "source": [
    "X = sm.add_constant(X)\n",
    "# create a fitted model in one line\n",
    "lm_9 = sm.OLS(y,X).fit()\n",
    "print(lm_9.summary())"
   ]
  },
  {
   "cell_type": "code",
   "execution_count": 54,
   "metadata": {},
   "outputs": [],
   "source": [
    "X = media[['weekend','Character_A','ad_impression_million']]\n",
    "\n",
    "# Putting response variable to y\n",
    "y = media['Views_show']"
   ]
  },
  {
   "cell_type": "code",
   "execution_count": 55,
   "metadata": {},
   "outputs": [
    {
     "name": "stdout",
     "output_type": "stream",
     "text": [
      "                            OLS Regression Results                            \n",
      "==============================================================================\n",
      "Dep. Variable:             Views_show   R-squared:                       0.803\n",
      "Model:                            OLS   Adj. R-squared:                  0.795\n",
      "Method:                 Least Squares   F-statistic:                     103.0\n",
      "Date:                Sun, 09 Aug 2020   Prob (F-statistic):           1.05e-26\n",
      "Time:                        22:34:27   Log-Likelihood:                -1004.2\n",
      "No. Observations:                  80   AIC:                             2016.\n",
      "Df Residuals:                      76   BIC:                             2026.\n",
      "Df Model:                           3                                         \n",
      "Covariance Type:            nonrobust                                         \n",
      "=========================================================================================\n",
      "                            coef    std err          t      P>|t|      [0.025      0.975]\n",
      "-----------------------------------------------------------------------------------------\n",
      "const                 -2.661e+05   4.74e+04     -5.609      0.000   -3.61e+05   -1.72e+05\n",
      "weekend                 1.51e+05   1.88e+04      8.019      0.000    1.14e+05    1.89e+05\n",
      "Character_A            -2.99e+04   2.14e+04     -1.394      0.167   -7.26e+04    1.28e+04\n",
      "ad_impression_million   364.4670     36.909      9.875      0.000     290.957     437.977\n",
      "==============================================================================\n",
      "Omnibus:                        4.723   Durbin-Watson:                   1.169\n",
      "Prob(Omnibus):                  0.094   Jarque-Bera (JB):                3.939\n",
      "Skew:                           0.453   Prob(JB):                        0.139\n",
      "Kurtosis:                       3.601   Cond. No.                     9.26e+03\n",
      "==============================================================================\n",
      "\n",
      "Warnings:\n",
      "[1] Standard Errors assume that the covariance matrix of the errors is correctly specified.\n",
      "[2] The condition number is large, 9.26e+03. This might indicate that there are\n",
      "strong multicollinearity or other numerical problems.\n"
     ]
    }
   ],
   "source": [
    "X = sm.add_constant(X)\n",
    "# create a fitted model in one line\n",
    "lm_10 = sm.OLS(y,X).fit()\n",
    "print(lm_10.summary())"
   ]
  },
  {
   "cell_type": "code",
   "execution_count": 56,
   "metadata": {},
   "outputs": [],
   "source": [
    "# Making predictions using the model\n",
    "X = media[['weekend','Character_A','ad_impression_million']]\n",
    "X = sm.add_constant(X)\n",
    "Predicted_views = lm_10.predict(X)"
   ]
  },
  {
   "cell_type": "code",
   "execution_count": 57,
   "metadata": {},
   "outputs": [],
   "source": [
    "from sklearn.metrics import mean_squared_error, r2_score\n",
    "mse = mean_squared_error(media.Views_show, Predicted_views)\n",
    "r_squared = r2_score(media.Views_show, Predicted_views)"
   ]
  },
  {
   "cell_type": "code",
   "execution_count": 58,
   "metadata": {},
   "outputs": [
    {
     "name": "stdout",
     "output_type": "stream",
     "text": [
      "Mean_Squared_Error : 4677651616.2534075\n",
      "r_square_value : 0.802643446857565\n"
     ]
    }
   ],
   "source": [
    "print('Mean_Squared_Error :' ,mse)\n",
    "print('r_square_value :',r_squared)"
   ]
  },
  {
   "cell_type": "code",
   "execution_count": 59,
   "metadata": {},
   "outputs": [
    {
     "data": {
      "text/plain": [
       "Text(0, 0.5, 'Views')"
      ]
     },
     "execution_count": 59,
     "metadata": {},
     "output_type": "execute_result"
    },
    {
     "data": {
      "image/png": "[encoded data removed]",
      "text/plain": [
       "<Figure size 432x288 with 1 Axes>"
      ]
     },
     "metadata": {
      "needs_background": "light"
     },
     "output_type": "display_data"
    }
   ],
   "source": [
    "#Actual vs Predicted\n",
    "c = [i for i in range(1,81,1)]\n",
    "fig = plt.figure()\n",
    "plt.plot(c,media.Views_show, color=\"blue\", linewidth=2.5, linestyle=\"-\")\n",
    "plt.plot(c,Predicted_views, color=\"red\",  linewidth=2.5, linestyle=\"-\")\n",
    "fig.suptitle('Actual and Predicted', fontsize=20)              # Plot heading \n",
    "plt.xlabel('Index', fontsize=18)                               # X-label\n",
    "plt.ylabel('Views', fontsize=16)                               # Y-label"
   ]
  },
  {
   "cell_type": "code",
   "execution_count": 60,
   "metadata": {},
   "outputs": [
    {
     "data": {
      "text/plain": [
       "Text(0, 0.5, 'Views_show-Predicted_views')"
      ]
     },
     "execution_count": 60,
     "metadata": {},
     "output_type": "execute_result"
    },
    {
     "data": {
      "image/png": "[encoded data removed]",
      "text/plain": [
       "<Figure size 432x288 with 1 Axes>"
      ]
     },
     "metadata": {
      "needs_background": "light"
     },
     "output_type": "display_data"
    }
   ],
   "source": [
    "# Error terms\n",
    "c = [i for i in range(1,81,1)]\n",
    "fig = plt.figure()\n",
    "plt.plot(c,media.Views_show-Predicted_views, color=\"blue\", linewidth=2.5, linestyle=\"-\")\n",
    "fig.suptitle('Error Terms', fontsize=20)              # Plot heading \n",
    "plt.xlabel('Index', fontsize=18)                      # X-label\n",
    "plt.ylabel('Views_show-Predicted_views', fontsize=16)                # Y-label"
   ]
  },
  {
   "cell_type": "code",
   "execution_count": 61,
   "metadata": {},
   "outputs": [],
   "source": [
    "# Making predictions using lm6\n",
    "# Making predictions using the model\n",
    "X = media[['weekend','Character_A','Visitors']]\n",
    "X = sm.add_constant(X)\n",
    "Predicted_views = lm_6.predict(X)"
   ]
  },
  {
   "cell_type": "code",
   "execution_count": 62,
   "metadata": {},
   "outputs": [],
   "source": [
    "from sklearn.metrics import mean_squared_error, r2_score\n",
    "mse = mean_squared_error(media.Views_show, Predicted_views)\n",
    "r_squared = r2_score(media.Views_show, Predicted_views)"
   ]
  },
  {
   "cell_type": "code",
   "execution_count": 63,
   "metadata": {},
   "outputs": [
    {
     "name": "stdout",
     "output_type": "stream",
     "text": [
      "Mean_Squared_Error : 9815432480.45152\n",
      "r_square_value : 0.5858734080979341\n"
     ]
    }
   ],
   "source": [
    "print('Mean_Squared_Error :' ,mse)\n",
    "print('r_square_value :',r_squared)"
   ]
  },
  {
   "cell_type": "code",
   "execution_count": 64,
   "metadata": {},
   "outputs": [
    {
     "data": {
      "text/plain": [
       "Text(0, 0.5, 'Views')"
      ]
     },
     "execution_count": 64,
     "metadata": {},
     "output_type": "execute_result"
    },
    {
     "data": {
      "image/png": "[encoded data removed]",
      "text/plain": [
       "<Figure size 432x288 with 1 Axes>"
      ]
     },
     "metadata": {
      "needs_background": "light"
     },
     "output_type": "display_data"
    }
   ],
   "source": [
    "#Actual vs Predicted\n",
    "c = [i for i in range(1,81,1)]\n",
    "fig = plt.figure()\n",
    "plt.plot(c,media.Views_show, color=\"blue\", linewidth=2.5, linestyle=\"-\")\n",
    "plt.plot(c,Predicted_views, color=\"red\",  linewidth=2.5, linestyle=\"-\")\n",
    "fig.suptitle('Actual and Predicted', fontsize=20)              # Plot heading \n",
    "plt.xlabel('Index', fontsize=18)                               # X-label\n",
    "plt.ylabel('Views', fontsize=16)                               # Y-label"
   ]
  },
  {
   "cell_type": "code",
   "execution_count": 65,
   "metadata": {},
   "outputs": [
    {
     "data": {
      "text/plain": [
       "Text(0, 0.5, 'Views_show-Predicted_views')"
      ]
     },
     "execution_count": 65,
     "metadata": {},
     "output_type": "execute_result"
    },
    {
     "data": {
      "image/png": "[encoded data removed]",
      "text/plain": [
       "<Figure size 432x288 with 1 Axes>"
      ]
     },
     "metadata": {
      "needs_background": "light"
     },
     "output_type": "display_data"
    }
   ],
   "source": [
    "# Error terms\n",
    "c = [i for i in range(1,81,1)]\n",
    "fig = plt.figure()\n",
    "plt.plot(c,media.Views_show-Predicted_views, color=\"blue\", linewidth=2.5, linestyle=\"-\")\n",
    "fig.suptitle('Error Terms', fontsize=20)              # Plot heading \n",
    "plt.xlabel('Index', fontsize=18)                      # X-label\n",
    "plt.ylabel('Views_show-Predicted_views', fontsize=16)                # Y-label"
   ]
  }
 ],
 "metadata": {
  "kernelspec": {
   "display_name": "Python 3",
   "language": "python",
   "name": "python3"
  },
  "language_info": {
   "codemirror_mode": {
    "name": "ipython",
    "version": 3
   },
   "file_extension": ".py",
   "mimetype": "text/x-python",
   "name": "python",
   "nbconvert_exporter": "python",
   "pygments_lexer": "ipython3",
   "version": "3.7.6"
  }
 },
 "nbformat": 4,
 "nbformat_minor": 4
}
